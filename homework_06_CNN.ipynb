{
  "cells": [
    {
      "cell_type": "markdown",
      "source": [
        "# Основы машинного обучения, ПАДиИИ\n",
        "\n",
        "## НИУ ВШЭ, 2024-25 учебный год"
      ],
      "metadata": {
        "id": "uzoPPj-CT-hG"
      }
    },
    {
      "cell_type": "markdown",
      "metadata": {
        "id": "VRUsuZR2cQoY"
      },
      "source": [
        "# Домашнее задание 6: Классификация при помощи CNN"
      ]
    },
    {
      "cell_type": "markdown",
      "metadata": {
        "id": "lV9pvgZJTYGj"
      },
      "source": [
        "Задание выполнил(а):\n",
        "\n",
        "Демьянов Степан"
      ]
    },
    {
      "cell_type": "markdown",
      "metadata": {
        "id": "ZML8VxlPTYGj"
      },
      "source": [
        "## Общая информация"
      ]
    },
    {
      "cell_type": "markdown",
      "metadata": {
        "id": "nTmiXfZZTYGl"
      },
      "source": [
        "__Внимание!__  \n",
        "\n",
        "\n",
        "* Домашнее задание выполняется самостоятельно\n",
        "* Не допускается помощь в решении домашнего задания от однокурсников или третьих лиц. «Похожие» решения считаются плагиатом, и все задействованные студенты — в том числе и те, у кого списали, — не могут получить за него больше 0 баллов\n",
        "* Использование в решении домашнего задания генеративных моделей (ChatGPT и так далее) за рамками справочной и образовательной информации для генерации кода задания — считается плагиатом, и такое домашнее задание оценивается в 0 баллов\n",
        "* Старайтесь сделать код как можно более оптимальным. Неэффективная реализация кода может негативно отразиться на оценке. Также оценка может быть снижена за плохо читаемый код и плохо оформленные графики. Все ответы должны сопровождаться кодом или комментариями о том, как они были получены."
      ]
    },
    {
      "cell_type": "markdown",
      "metadata": {
        "id": "w35Q6hOIy4sk",
        "pycharm": {
          "name": "#%% md\n"
        }
      },
      "source": [
        "## О задании\n",
        "\n",
        "В этом задании вам предстоит познакомиться со сверточными сетями и их обучением для классификации изображений с использованием библиотеки PyTorch.\n"
      ]
    },
    {
      "cell_type": "markdown",
      "source": [
        "## Импорт библиотек"
      ],
      "metadata": {
        "id": "imPK_EDQp0NX"
      }
    },
    {
      "cell_type": "code",
      "execution_count": 1,
      "metadata": {
        "id": "SaACifdX2QOo",
        "pycharm": {
          "name": "#%%\n"
        }
      },
      "outputs": [],
      "source": [
        "import matplotlib.pyplot as plt\n",
        "import numpy as np\n",
        "import torch\n",
        "import torch.nn as nn\n",
        "import torch.nn.functional as F\n",
        "import torch.optim as optim\n",
        "import torchvision\n",
        "import torchvision.transforms as transforms\n",
        "\n",
        "from sklearn.model_selection import train_test_split"
      ]
    },
    {
      "cell_type": "markdown",
      "metadata": {
        "id": "TIXaUYM-0JFl",
        "pycharm": {
          "name": "#%% md\n"
        }
      },
      "source": [
        "## 0. Загрузка данных\n",
        "\n",
        "Работать мы будем с набором данных [CIFAR10](https://www.cs.toronto.edu/~kriz/cifar.html). CIFAR10 представляет собой набор изображений 32х32 пикселя, разделенных на 10 классов.\n",
        "\n",
        "![title](https://pytorch.org/tutorials/_images/cifar10.png)\n",
        "\n",
        "\n"
      ]
    },
    {
      "cell_type": "markdown",
      "metadata": {
        "id": "g-0EEjl_10vB",
        "pycharm": {
          "name": "#%% md\n"
        }
      },
      "source": [
        "Набор данных уже определен в <code>torchvision.datasets</code>, так что возьмем его оттуда.\n",
        "\n"
      ]
    },
    {
      "cell_type": "code",
      "execution_count": 2,
      "metadata": {
        "id": "Cbwe92dT3aPZ",
        "pycharm": {
          "name": "#%%\n"
        }
      },
      "outputs": [],
      "source": [
        "# Для тру нормализации\n",
        "# mean = [0.4914, 0.4822, 0.4465]\n",
        "# std = [0.2470, 0.2435, 0.2616]\n",
        "# Тут взяты значения как в одном из туториалов пайторча :)\n",
        "\n",
        "\n",
        "def get_cifar10_data(batch_size, transform_train):\n",
        "    torch.manual_seed(0)\n",
        "    np.random.seed(0)\n",
        "\n",
        "    transform_test = transforms.Compose(\n",
        "        [\n",
        "            transforms.ToTensor(),\n",
        "            # Переводим цвета пикселей в отрезок [-1, 1]\n",
        "            transforms.Normalize((0.5, 0.5, 0.5), (0.5, 0.5, 0.5)),\n",
        "        ]\n",
        "    )\n",
        "\n",
        "    # Загружаем данные\n",
        "    trainvalset = torchvision.datasets.CIFAR10(\n",
        "        root=\"./data\", train=True, download=True, transform=transform_train\n",
        "    )\n",
        "    testset = torchvision.datasets.CIFAR10(\n",
        "        root=\"./data\", train=False, download=True, transform=transform_test\n",
        "    )\n",
        "\n",
        "    # В датасете определено разбиение только на train и test,\n",
        "    # так что валидацию дополнительно выделяем из обучающей выборки\n",
        "    train_idx, valid_idx = train_test_split(\n",
        "        np.arange(len(trainvalset)), test_size=0.3, shuffle=True, random_state=0\n",
        "    )\n",
        "    trainset = torch.utils.data.Subset(trainvalset, train_idx)\n",
        "    valset = torch.utils.data.Subset(trainvalset, valid_idx)\n",
        "\n",
        "    train_loader = torch.utils.data.DataLoader(\n",
        "        trainset, batch_size=batch_size, shuffle=True, num_workers=2\n",
        "    )\n",
        "    val_loader = torch.utils.data.DataLoader(\n",
        "        valset, batch_size=batch_size, shuffle=False, num_workers=2\n",
        "    )\n",
        "    test_loader = torch.utils.data.DataLoader(\n",
        "        testset, batch_size=batch_size, shuffle=False, num_workers=2\n",
        "    )\n",
        "\n",
        "    return train_loader, val_loader, test_loader"
      ]
    },
    {
      "cell_type": "code",
      "execution_count": 3,
      "metadata": {
        "id": "2G2rLnN5y6Jj",
        "pycharm": {
          "name": "#%%\n"
        }
      },
      "outputs": [],
      "source": [
        "transform = transforms.Compose(\n",
        "    [transforms.ToTensor(), transforms.Normalize((0.5, 0.5, 0.5), (0.5, 0.5, 0.5))]\n",
        ")\n",
        "\n",
        "train_loader, val_loader, test_loader = get_cifar10_data(\n",
        "    batch_size=64, transform_train=transform\n",
        ")"
      ]
    },
    {
      "cell_type": "markdown",
      "metadata": {
        "id": "-82HWgXs77W1",
        "pycharm": {
          "name": "#%% md\n"
        }
      },
      "source": [
        "Посмотрим на изображения:"
      ]
    },
    {
      "cell_type": "code",
      "execution_count": 4,
      "metadata": {
        "colab": {
          "base_uri": "https://localhost:8080/",
          "height": 210
        },
        "id": "ACnwaC5iy6L2",
        "outputId": "c2a23763-68cb-47ac-b394-129baa9fbcc9",
        "pycharm": {
          "name": "#%%\n"
        }
      },
      "outputs": [
        {
          "output_type": "display_data",
          "data": {
            "text/plain": [
              "<Figure size 640x480 with 1 Axes>"
            ],
            "image/png": "[encoded data removed]"
          },
          "metadata": {}
        },
        {
          "output_type": "stream",
          "name": "stdout",
          "text": [
            "ship frog horse horse\n"
          ]
        }
      ],
      "source": [
        "def imshow(img):\n",
        "    img = img / 2 + 0.5\n",
        "    npimg = img.numpy()\n",
        "    plt.imshow(np.transpose(npimg, (1, 2, 0)))\n",
        "    plt.show()\n",
        "\n",
        "\n",
        "dataiter = iter(train_loader)\n",
        "images, labels = next(dataiter)\n",
        "\n",
        "imshow(torchvision.utils.make_grid(images[:4]))\n",
        "\n",
        "classes = (\n",
        "    \"plane\",\n",
        "    \"car\",\n",
        "    \"bird\",\n",
        "    \"cat\",\n",
        "    \"deer\",\n",
        "    \"dog\",\n",
        "    \"frog\",\n",
        "    \"horse\",\n",
        "    \"ship\",\n",
        "    \"truck\",\n",
        ")\n",
        "print(*[classes[labels[i]] for i in range(4)])"
      ]
    },
    {
      "cell_type": "markdown",
      "metadata": {
        "id": "KFDilng29YZ_",
        "pycharm": {
          "name": "#%% md\n"
        }
      },
      "source": [
        "## 1. Задание сверточной сети (3 балла)"
      ]
    },
    {
      "cell_type": "markdown",
      "metadata": {
        "id": "OX7Ul8YbYdQR",
        "pycharm": {
          "name": "#%% md\n"
        }
      },
      "source": [
        "Теперь нам нужно задать сверточную нейронную сеть, которую мы будем обучать классифицировать изображения.\n",
        "\n",
        "Используем сеть, основанную на одном блоке архитектуры, похожей на ResNet. Обратите внимание, это не ResNet 1 в 1.\n",
        "\n",
        "<img src=\"https://i.ibb.co/2hg962h/basic-block.png\" width=\"500\"/>\n",
        "\n",
        "__Указания:__\n",
        "\n",
        "- Все сверточные слои должны иметь 32 выходных канала, а также не должны изменять ширину и высоту изображения.\n",
        "- Выход блока сократите до размерности 32х4х4, применив average pooling.\n",
        "- Для получения итоговых логитов, распрямите выход пулинга в вектор из 512 элементов, а затем пропустите его через линейный слой."
      ]
    },
    {
      "cell_type": "markdown",
      "metadata": {
        "id": "sbyIylT9O9Dr",
        "pycharm": {
          "name": "#%% md\n"
        }
      },
      "source": [
        "**Задание 1.1 (3 балла).**\n",
        "\n",
        "Определите архитектуру сети соответственно схеме и указаниям выше.\n",
        "\n",
        "Ключевые слова: <code>Conv2d</code>, <code>BatchNorm2d</code>, <code>AvgPool2d</code>."
      ]
    },
    {
      "cell_type": "code",
      "execution_count": 5,
      "metadata": {
        "id": "s9ml1QGKy6N9",
        "pycharm": {
          "name": "#%%\n"
        }
      },
      "outputs": [],
      "source": [
        "n_classes = 10\n",
        "\n",
        "class BasicBlockNet(nn.Module):\n",
        "    def __init__(self):\n",
        "        super().__init__()\n",
        "        self.conv1 = nn.Conv2d(3, 32, kernel_size=3, stride=1, padding=1)\n",
        "        self.bn1 = nn.BatchNorm2d(32)\n",
        "        self.relu = nn.ReLU(inplace=True)\n",
        "\n",
        "        self.conv2 = nn.Conv2d(32, 32, kernel_size=3, stride=1, padding=1)\n",
        "        self.bn2 = nn.BatchNorm2d(32)\n",
        "\n",
        "        self.conv3 = nn.Conv2d(32, 32, kernel_size=3, stride=1, padding=1)\n",
        "        self.bn3 = nn.BatchNorm2d(32)\n",
        "\n",
        "        self.avgpool = nn.AvgPool2d(kernel_size=8)\n",
        "\n",
        "        self.fc = nn.Linear(32 * 4 * 4, n_classes)\n",
        "\n",
        "    def forward(self, x):\n",
        "        out = self.conv1(x)\n",
        "        out = self.bn1(out)\n",
        "        out = self.relu(out)\n",
        "\n",
        "        out = self.conv2(out)\n",
        "        out = self.bn2(out)\n",
        "        out = self.relu(out)\n",
        "\n",
        "        out = self.conv3(out)\n",
        "        out = self.bn3(out)\n",
        "        out = self.relu(out)\n",
        "\n",
        "        out = self.avgpool(out)\n",
        "        out = out.view(out.size(0), -1)\n",
        "        out = self.fc(out)\n",
        "        return out"
      ]
    },
    {
      "cell_type": "code",
      "execution_count": 6,
      "metadata": {
        "id": "FI4BQg7Ky6Pw",
        "pycharm": {
          "name": "#%%\n"
        },
        "colab": {
          "base_uri": "https://localhost:8080/"
        },
        "outputId": "28835815-5b34-4d7d-d2ac-4192e51835dc"
      },
      "outputs": [
        {
          "output_type": "execute_result",
          "data": {
            "text/plain": [
              "BasicBlockNet(\n",
              "  (conv1): Conv2d(3, 32, kernel_size=(3, 3), stride=(1, 1), padding=(1, 1))\n",
              "  (bn1): BatchNorm2d(32, eps=1e-05, momentum=0.1, affine=True, track_running_stats=True)\n",
              "  (relu): ReLU(inplace=True)\n",
              "  (conv2): Conv2d(32, 32, kernel_size=(3, 3), stride=(1, 1), padding=(1, 1))\n",
              "  (bn2): BatchNorm2d(32, eps=1e-05, momentum=0.1, affine=True, track_running_stats=True)\n",
              "  (conv3): Conv2d(32, 32, kernel_size=(3, 3), stride=(1, 1), padding=(1, 1))\n",
              "  (bn3): BatchNorm2d(32, eps=1e-05, momentum=0.1, affine=True, track_running_stats=True)\n",
              "  (avgpool): AvgPool2d(kernel_size=8, stride=8, padding=0)\n",
              "  (fc): Linear(in_features=512, out_features=10, bias=True)\n",
              ")"
            ]
          },
          "metadata": {},
          "execution_count": 6
        }
      ],
      "source": [
        "net = BasicBlockNet()\n",
        "net"
      ]
    },
    {
      "cell_type": "markdown",
      "metadata": {
        "id": "igPoGZEub8d3",
        "pycharm": {
          "name": "#%% md\n"
        }
      },
      "source": [
        "Проверим, что выход сети имеет корректную размерность:"
      ]
    },
    {
      "cell_type": "code",
      "execution_count": 7,
      "metadata": {
        "id": "cCIzFUpJ_Agw",
        "pycharm": {
          "name": "#%%\n"
        }
      },
      "outputs": [],
      "source": [
        "assert net(torch.zeros((10, 3, 32, 32))).shape == (10, 10)"
      ]
    },
    {
      "cell_type": "markdown",
      "metadata": {
        "id": "08osX622cDGz",
        "pycharm": {
          "name": "#%% md\n"
        }
      },
      "source": [
        "Чтобы проводить вычисления на GPU, в PyTorch необходимо руками перекладывать объекты, с которыми вы хотите проводить вычисления, на графический ускоритель. Это делается следующим образрм:"
      ]
    },
    {
      "cell_type": "code",
      "execution_count": 8,
      "metadata": {
        "id": "56hDOMCFcDZX",
        "pycharm": {
          "name": "#%%\n"
        },
        "colab": {
          "base_uri": "https://localhost:8080/"
        },
        "outputId": "ebe73ebb-4b5e-4584-8b22-8e3b2e1d792c"
      },
      "outputs": [
        {
          "output_type": "stream",
          "name": "stdout",
          "text": [
            "cuda:0\n"
          ]
        }
      ],
      "source": [
        "device = torch.device(\"cuda:0\" if torch.cuda.is_available() else \"cpu\")\n",
        "print(device)"
      ]
    },
    {
      "cell_type": "code",
      "execution_count": 9,
      "metadata": {
        "id": "ohnDWbp0qbtC",
        "pycharm": {
          "name": "#%%\n"
        }
      },
      "outputs": [],
      "source": [
        "net = net.to(device)"
      ]
    },
    {
      "cell_type": "markdown",
      "metadata": {
        "id": "H_bOlTVUp5QF",
        "pycharm": {
          "name": "#%% md\n"
        }
      },
      "source": [
        "Подключение GPU в google.colab:\n",
        "\n",
        "**Среда выполнения** -> **Сменить среду выполнения** -> **Аппаратный ускоритель** -> **GPU**"
      ]
    },
    {
      "cell_type": "markdown",
      "metadata": {
        "id": "AGi6XX_7_Bgg",
        "pycharm": {
          "name": "#%% md\n"
        }
      },
      "source": [
        "## 2. Обучение и тестирование модели (3 балла)"
      ]
    },
    {
      "cell_type": "markdown",
      "metadata": {
        "id": "0agj_MQoO9Ds",
        "pycharm": {
          "name": "#%% md\n"
        }
      },
      "source": [
        "**Задание 2.1 (2 балла).** Переходим к обучению модели. Заполните пропуски в функциях <code>test</code> и <code>train_epoch</code>. В качестве функции потерь будем использовать [кросс-энтропию](https://pytorch.org/docs/stable/generated/torch.nn.functional.cross_entropy.html), а в качестве метрики качества accuracy."
      ]
    },
    {
      "cell_type": "code",
      "execution_count": 10,
      "metadata": {
        "id": "g8gsPPRIevDS",
        "pycharm": {
          "name": "#%%\n"
        }
      },
      "outputs": [],
      "source": [
        "device = torch.device(\"cuda\" if torch.cuda.is_available() else \"cpu\")\n",
        "criterion = nn.CrossEntropyLoss()\n",
        "\n",
        "def test(model, loader):\n",
        "    loss_log = []\n",
        "    acc_log = []\n",
        "    model.eval()\n",
        "\n",
        "    for data, target in loader:\n",
        "        data, target = data.to(device), target.to(device)\n",
        "        output = model(data)\n",
        "        loss = criterion(output, target)\n",
        "\n",
        "        loss_log.append(loss.item())\n",
        "\n",
        "        _, predicted = torch.max(output, 1)\n",
        "        correct = (predicted == target).sum().item()\n",
        "        acc = correct / target.size(0)\n",
        "        acc_log.append(acc)\n",
        "\n",
        "    return np.mean(loss_log), np.mean(acc_log)\n",
        "\n",
        "\n",
        "def train_epoch(model, optimizer, train_loader):\n",
        "    loss_log = []\n",
        "    acc_log = []\n",
        "    model.train()\n",
        "\n",
        "    for data, target in train_loader:\n",
        "        data, target = data.to(device), target.to(device)\n",
        "        optimizer.zero_grad()\n",
        "        output = model(data)\n",
        "        loss = criterion(output, target)\n",
        "        loss.backward()\n",
        "        optimizer.step()\n",
        "\n",
        "        loss_log.append(loss.item())\n",
        "        _, predicted = torch.max(output, 1)\n",
        "        correct = (predicted == target).sum().item()\n",
        "        acc = correct / target.size(0)\n",
        "        acc_log.append(acc)\n",
        "\n",
        "    return loss_log, acc_log\n",
        "\n",
        "def train(model, optimizer, n_epochs, train_loader, val_loader, scheduler=None):\n",
        "    train_loss_log, train_acc_log, val_loss_log, val_acc_log = [], [], [], []\n",
        "\n",
        "    for epoch in range(n_epochs):\n",
        "        train_loss, train_acc = train_epoch(model, optimizer, train_loader)\n",
        "        val_loss, val_acc = test(model, val_loader)\n",
        "\n",
        "        train_loss_log.extend(train_loss)\n",
        "        train_acc_log.extend(train_acc)\n",
        "\n",
        "        val_loss_log.append(val_loss)\n",
        "        val_acc_log.append(val_acc)\n",
        "\n",
        "        print(f\"Epoch {epoch}\")\n",
        "        print(f\" train loss: {np.mean(train_loss)}, train acc: {np.mean(train_acc)}\")\n",
        "        print(f\" val loss: {val_loss}, val acc: {val_acc}\\n\")\n",
        "\n",
        "        if scheduler is not None:\n",
        "            scheduler.step()\n",
        "\n",
        "    return train_loss_log, train_acc_log, val_loss_log, val_acc_log"
      ]
    },
    {
      "cell_type": "markdown",
      "metadata": {
        "id": "iSOqk_CAO9Dt",
        "pycharm": {
          "name": "#%% md\n"
        }
      },
      "source": [
        "Запустим обучение модели. В качестве оптимизатора будем использовать стохастический градиентный спуск, который является де-факто стандартом в задачах компьютерного зрения (наравне с <code>Adam</code>).\n",
        "\n",
        "__Замечание:__ Для достижения наилучшего качества в нашем случае потребуется обучать модель несколько сотен эпох. Однако в целях экономии вашего времени и сил, во всех экспериментах мы ограничимся 20 эпохами."
      ]
    },
    {
      "cell_type": "code",
      "execution_count": 11,
      "metadata": {
        "id": "MKZBGhuAgMDu",
        "pycharm": {
          "name": "#%%\n"
        },
        "scrolled": true,
        "colab": {
          "base_uri": "https://localhost:8080/"
        },
        "outputId": "9fa64bcc-5a73-4f87-f737-6bdb3b67cb44"
      },
      "outputs": [
        {
          "output_type": "stream",
          "name": "stdout",
          "text": [
            "Epoch 0\n",
            " train loss: 1.483363015996037, train acc: 0.4715575215460956\n",
            " val loss: 1.4350791084005479, val acc: 0.5067375886524823\n",
            "\n",
            "Epoch 1\n",
            " train loss: 1.155501559077059, train acc: 0.5927706320188039\n",
            " val loss: 1.1789553667636627, val acc: 0.5959441489361702\n",
            "\n",
            "Epoch 2\n",
            " train loss: 1.0070035931615116, train acc: 0.6508716375032646\n",
            " val loss: 1.00671823557387, val acc: 0.6556515957446809\n",
            "\n",
            "Epoch 3\n",
            " train loss: 0.9253448653264716, train acc: 0.6822563006006791\n",
            " val loss: 0.9563481394280778, val acc: 0.6689494680851064\n",
            "\n",
            "Epoch 4\n",
            " train loss: 0.8759236088400567, train acc: 0.6961551645338209\n",
            " val loss: 0.8855249544407459, val acc: 0.6892508865248226\n",
            "\n",
            "Epoch 5\n",
            " train loss: 0.8380672614578791, train acc: 0.7064670932358318\n",
            " val loss: 0.862490974588597, val acc: 0.7071808510638298\n",
            "\n",
            "Epoch 6\n",
            " train loss: 0.8049797266449309, train acc: 0.7225083246278401\n",
            " val loss: 0.8450033190402578, val acc: 0.707668439716312\n",
            "\n",
            "Epoch 7\n",
            " train loss: 0.7814987406434263, train acc: 0.7295842582919823\n",
            " val loss: 0.8267822075397411, val acc: 0.7163785460992907\n",
            "\n",
            "Epoch 8\n",
            " train loss: 0.7634566326572865, train acc: 0.7335180530164533\n",
            " val loss: 0.8377551920870517, val acc: 0.7114583333333333\n",
            "\n",
            "Epoch 9\n",
            " train loss: 0.7396438650282907, train acc: 0.7421732175502742\n",
            " val loss: 0.8328516579688864, val acc: 0.7123005319148936\n",
            "\n",
            "Epoch 10\n",
            " train loss: 0.7202998661798794, train acc: 0.7487390637242101\n",
            " val loss: 0.8402819592902001, val acc: 0.7164893617021276\n",
            "\n",
            "Epoch 11\n",
            " train loss: 0.7047258964731227, train acc: 0.7542316858187516\n",
            " val loss: 0.8279605685396397, val acc: 0.7167109929078014\n",
            "\n",
            "Epoch 12\n",
            " train loss: 0.693259088877568, train acc: 0.7577737333507443\n",
            " val loss: 0.7780440817488, val acc: 0.7348847517730497\n",
            "\n",
            "Epoch 13\n",
            " train loss: 0.6826940444204446, train acc: 0.764294691825542\n",
            " val loss: 0.8131875925875724, val acc: 0.7259086879432625\n",
            "\n",
            "Epoch 14\n",
            " train loss: 0.6719287052015064, train acc: 0.7654128036040742\n",
            " val loss: 0.8534940842618334, val acc: 0.7167774822695034\n",
            "\n",
            "Epoch 15\n",
            " train loss: 0.662631971417659, train acc: 0.7710156045965004\n",
            " val loss: 0.8619636979508907, val acc: 0.7106604609929077\n",
            "\n",
            "Epoch 16\n",
            " train loss: 0.6471426483155168, train acc: 0.7733007965526247\n",
            " val loss: 0.7912911232481612, val acc: 0.7354388297872341\n",
            "\n",
            "Epoch 17\n",
            " train loss: 0.6388856387770372, train acc: 0.7779364716636198\n",
            " val loss: 0.7788172261512026, val acc: 0.7398714539007093\n",
            "\n",
            "Epoch 18\n",
            " train loss: 0.632255796595073, train acc: 0.7785526573517889\n",
            " val loss: 0.7722410327576577, val acc: 0.7388076241134752\n",
            "\n",
            "Epoch 19\n",
            " train loss: 0.6208891632678958, train acc: 0.7850572930269\n",
            " val loss: 0.7982497742835512, val acc: 0.738497340425532\n",
            "\n"
          ]
        }
      ],
      "source": [
        "optimizer = optim.SGD(net.parameters(), lr=0.1, momentum=0.9)\n",
        "train_loss_log, train_acc_log, val_loss_log, val_acc_log = train(\n",
        "    net, optimizer, 20, train_loader, val_loader\n",
        ")"
      ]
    },
    {
      "cell_type": "markdown",
      "metadata": {
        "id": "gUb1jQW8O9Dt",
        "pycharm": {
          "name": "#%% md\n"
        }
      },
      "source": [
        "Посчитайте точность на тестовой выборке:"
      ]
    },
    {
      "cell_type": "code",
      "execution_count": 12,
      "metadata": {
        "id": "Jyuc55B9_Amc",
        "pycharm": {
          "name": "#%%\n"
        },
        "colab": {
          "base_uri": "https://localhost:8080/"
        },
        "outputId": "cc0e31fa-2247-4214-b6c5-59d3081acf3b"
      },
      "outputs": [
        {
          "output_type": "stream",
          "name": "stdout",
          "text": [
            "Test accuracy: 0.7277\n"
          ]
        }
      ],
      "source": [
        "test_loss, test_acc = test(net, test_loader)\n",
        "print(f\"Test accuracy: {test_acc:.4f}\")"
      ]
    },
    {
      "cell_type": "markdown",
      "metadata": {
        "id": "zM38Q9fwO9Dt",
        "pycharm": {
          "name": "#%% md\n"
        }
      },
      "source": [
        "Если вы все сделали правильно, у вас должна была получиться точность $\\ge 67\\%$."
      ]
    },
    {
      "cell_type": "markdown",
      "metadata": {
        "id": "DHFNSKcoO9Dt",
        "pycharm": {
          "name": "#%% md\n"
        }
      },
      "source": [
        "**Задание 2.2 (1 балл).** Постройте графики зависимости функции потерь и точности классификации от номера шага оптимизатора. На каждом графике расположите данные и для обучающей и для валидационной выборки, итого у вас должно получиться два графика. Обратите внимание, что на обучающей выборке эти данные считаются по каждому батчу, на валидационной же они считаются по всей выборке раз в эпоху."
      ]
    },
    {
      "cell_type": "code",
      "execution_count": 13,
      "metadata": {
        "id": "LzIP0tGLO9Dt",
        "pycharm": {
          "name": "#%%\n"
        },
        "colab": {
          "base_uri": "https://localhost:8080/",
          "height": 487
        },
        "outputId": "ca8b9035-288c-4092-89ac-1a896cdff781"
      },
      "outputs": [
        {
          "output_type": "display_data",
          "data": {
            "text/plain": [
              "<Figure size 1200x500 with 2 Axes>"
            ],
            "image/png": "[encoded data removed]"
          },
          "metadata": {}
        }
      ],
      "source": [
        "plt.figure(figsize=(12, 5))\n",
        "plt.subplot(1, 2, 1)\n",
        "plt.plot(train_loss_log, label='Train Loss')\n",
        "val_loss_x = np.linspace(0, len(train_loss_log), len(val_loss_log))\n",
        "plt.plot(val_loss_x, val_loss_log, label='Val Loss', color='red')\n",
        "plt.xlabel('Iterations')\n",
        "plt.ylabel('Loss')\n",
        "plt.legend()\n",
        "plt.title('Loss vs. Iterations')\n",
        "\n",
        "plt.subplot(1, 2, 2)\n",
        "plt.plot(train_acc_log, label='Train Accuracy')\n",
        "val_acc_x = np.linspace(0, len(train_acc_log), len(val_acc_log))\n",
        "plt.plot(val_acc_x, val_acc_log, label='Val Accuracy',  color='red')\n",
        "plt.xlabel('Iterations')\n",
        "plt.ylabel('Accuracy')\n",
        "plt.legend()\n",
        "plt.title('Accuracy vs. Iterations')\n",
        "plt.show()"
      ]
    },
    {
      "cell_type": "markdown",
      "metadata": {
        "id": "_ttOJPj-O9Dt",
        "pycharm": {
          "name": "#%% md\n"
        }
      },
      "source": [
        "## 3. Расписание длины шага (2 балла)"
      ]
    },
    {
      "cell_type": "markdown",
      "metadata": {
        "id": "qiz3JstuO9Dt",
        "pycharm": {
          "name": "#%% md\n"
        }
      },
      "source": [
        "С курса \"Машинное обучение\" вы уже должны знать, что сходимость стохастического градиентного спуска мы можем теоретически гарантировать только если будем определенным образом со временем уменьшать длину шага. На практике при обучении нейронных сетей такая техника оказывается очень полезной, однако теоретически обоснованными способами уменьшения длины шага фантазия не ограничивается.\n",
        "\n",
        "Одним из простейших способов является кусочно постоянная функция: на нескольких фиксированных эпохах уменьшаем длину шага в константу раз."
      ]
    },
    {
      "cell_type": "code",
      "execution_count": 14,
      "metadata": {
        "id": "V2Z0OT3nO9Du",
        "pycharm": {
          "name": "#%%\n"
        },
        "colab": {
          "base_uri": "https://localhost:8080/"
        },
        "outputId": "5c5ebd7a-6bae-4670-a9bc-4e40a6cba15a"
      },
      "outputs": [
        {
          "output_type": "stream",
          "name": "stdout",
          "text": [
            "Epoch 0\n",
            " train loss: 1.432868900748014, train acc: 0.4867418059545574\n",
            " val loss: 1.185338028694721, val acc: 0.5902925531914893\n",
            "\n",
            "Epoch 1\n",
            " train loss: 1.0890749554529486, train acc: 0.6208009597806216\n",
            " val loss: 1.1094911539808232, val acc: 0.6192819148936171\n",
            "\n",
            "Epoch 2\n",
            " train loss: 0.9759024225815559, train acc: 0.6577884238704623\n",
            " val loss: 1.0286517630232141, val acc: 0.644636524822695\n",
            "\n",
            "Epoch 3\n",
            " train loss: 0.9064104357628762, train acc: 0.6828398406894751\n",
            " val loss: 0.9082373918370997, val acc: 0.6830230496453902\n",
            "\n",
            "Epoch 4\n",
            " train loss: 0.8689062767534413, train acc: 0.6985913423870462\n",
            " val loss: 0.8927403840612858, val acc: 0.6889849290780141\n",
            "\n",
            "Epoch 5\n",
            " train loss: 0.827153143760709, train acc: 0.713669528597545\n",
            " val loss: 0.8540675721269972, val acc: 0.7082890070921987\n",
            "\n",
            "Epoch 6\n",
            " train loss: 0.8046235126158873, train acc: 0.7180440389135544\n",
            " val loss: 0.8616440458500639, val acc: 0.7086214539007093\n",
            "\n",
            "Epoch 7\n",
            " train loss: 0.7768448739426663, train acc: 0.7294414337947245\n",
            " val loss: 0.8609566095027518, val acc: 0.7068040780141843\n",
            "\n",
            "Epoch 8\n",
            " train loss: 0.7563750083529317, train acc: 0.7372110864455471\n",
            " val loss: 0.8460653639854269, val acc: 0.7108377659574469\n",
            "\n",
            "Epoch 9\n",
            " train loss: 0.7319984440393814, train acc: 0.7460621245756072\n",
            " val loss: 0.815693314785653, val acc: 0.71917109929078\n",
            "\n",
            "Epoch 10\n",
            " train loss: 0.6234672770203794, train acc: 0.7843268477409245\n",
            " val loss: 0.729361560750515, val acc: 0.7511081560283689\n",
            "\n",
            "Epoch 11\n",
            " train loss: 0.6004247489969299, train acc: 0.7923250195873597\n",
            " val loss: 0.7314041462350399, val acc: 0.7502659574468085\n",
            "\n",
            "Epoch 12\n",
            " train loss: 0.5915799087536618, train acc: 0.7958548250195874\n",
            " val loss: 0.7284217323394532, val acc: 0.7533466312056737\n",
            "\n",
            "Epoch 13\n",
            " train loss: 0.5863098356144084, train acc: 0.7970749542961609\n",
            " val loss: 0.7308212528837488, val acc: 0.7493351063829787\n",
            "\n",
            "Epoch 14\n",
            " train loss: 0.5823690311019556, train acc: 0.7991479498563593\n",
            " val loss: 0.7340046735520058, val acc: 0.7510416666666667\n",
            "\n",
            "Epoch 15\n",
            " train loss: 0.5642636311010644, train acc: 0.804407972055367\n",
            " val loss: 0.7186213273951347, val acc: 0.7561613475177306\n",
            "\n",
            "Epoch 16\n",
            " train loss: 0.562068947218018, train acc: 0.8054893575346043\n",
            " val loss: 0.718764157371318, val acc: 0.7553634751773051\n",
            "\n",
            "Epoch 17\n",
            " train loss: 0.561803311164026, train acc: 0.8054363084356229\n",
            " val loss: 0.7192382844204598, val acc: 0.754831560283688\n",
            "\n",
            "Epoch 18\n",
            " train loss: 0.5608211386356319, train acc: 0.8057097153303735\n",
            " val loss: 0.7191610946300182, val acc: 0.7544991134751774\n",
            "\n",
            "Epoch 19\n",
            " train loss: 0.5609921586360966, train acc: 0.8061422695220685\n",
            " val loss: 0.7202953187709159, val acc: 0.7554299645390071\n",
            "\n"
          ]
        }
      ],
      "source": [
        "net = BasicBlockNet().to(device)\n",
        "optimizer = optim.SGD(net.parameters(), lr=0.1, momentum=0.9)\n",
        "scheduler = optim.lr_scheduler.MultiStepLR(optimizer, milestones=[10, 15], gamma=0.1)\n",
        "tr_loss_log, tr_acc_log, val_loss_log, val_acc_log = train(\n",
        "    net, optimizer, 20, train_loader, val_loader, scheduler\n",
        ")"
      ]
    },
    {
      "cell_type": "markdown",
      "metadata": {
        "id": "5Xc76KvzO9Du",
        "pycharm": {
          "name": "#%% md\n"
        }
      },
      "source": [
        "Посчитайте точность на тестовой выборке:"
      ]
    },
    {
      "cell_type": "code",
      "execution_count": 15,
      "metadata": {
        "id": "1AjiYhKqO9Du",
        "pycharm": {
          "name": "#%%\n"
        },
        "colab": {
          "base_uri": "https://localhost:8080/"
        },
        "outputId": "09c5027d-8878-4f4e-b3c4-54923fb71f0b"
      },
      "outputs": [
        {
          "output_type": "stream",
          "name": "stdout",
          "text": [
            "Test Accuracy: 75.47%\n"
          ]
        }
      ],
      "source": [
        "net.eval()\n",
        "correct = 0\n",
        "total = 0\n",
        "with torch.no_grad():\n",
        "    for inputs, labels in test_loader:\n",
        "        inputs = inputs.to(device)\n",
        "        labels = labels.to(device)\n",
        "        outputs = net(inputs)\n",
        "        _, predicted = torch.max(outputs.data, 1)\n",
        "        total += labels.size(0)\n",
        "        correct += (predicted == labels).sum().item()\n",
        "accuracy = 100 * correct / total\n",
        "print(f\"Test Accuracy: {accuracy:.2f}%\")"
      ]
    },
    {
      "cell_type": "markdown",
      "metadata": {
        "id": "yE0dgLYrO9Du",
        "pycharm": {
          "name": "#%% md\n"
        }
      },
      "source": [
        "**Задание 3.0 (0.5 баллов).** Здесь может возникнуть вопрос: а что будет, если мы не будем уменьшать длину шага в процессе обучения, а сразу возьмем констатную, равную значению нашей кусочно-постоянной функции на последних эпохах, то есть $0.001$ в нашем случае. Запустите обучение и проверьте, что в таком случае мы получим худшее качество на тестовой выборке."
      ]
    },
    {
      "cell_type": "code",
      "execution_count": 17,
      "metadata": {
        "id": "qZ2iB-LBO9Du",
        "pycharm": {
          "name": "#%%\n"
        },
        "colab": {
          "base_uri": "https://localhost:8080/"
        },
        "outputId": "c9f399fc-5e5d-4fee-829f-9677027003fb"
      },
      "outputs": [
        {
          "output_type": "stream",
          "name": "stdout",
          "text": [
            "Результат с постоянным LR=0.001:\n",
            "LR=0.001, WD=0.0: Test Accuracy: 69.91%\n",
            "\n",
            "Результат с расписанием LR (0.1 -> 0.01 -> 0.001): 75%\n"
          ]
        }
      ],
      "source": [
        "def train_and_evaluate_config(lr, weight_decay=0.0, epochs=20):\n",
        "    net = BasicBlockNet().to(device)\n",
        "    optimizer = optim.SGD(net.parameters(), lr=lr, momentum=0.9, weight_decay=weight_decay)\n",
        "\n",
        "    for epoch in range(epochs):\n",
        "        net.train()\n",
        "        for inputs, labels in train_loader:\n",
        "            inputs, labels = inputs.to(device), labels.to(device)\n",
        "            optimizer.zero_grad()\n",
        "            outputs = net(inputs)\n",
        "            loss = criterion(outputs, labels)\n",
        "            loss.backward()\n",
        "            optimizer.step()\n",
        "\n",
        "    net.eval()\n",
        "    correct = 0\n",
        "    total = 0\n",
        "    with torch.no_grad():\n",
        "        for inputs, labels in test_loader:\n",
        "            inputs, labels = inputs.to(device), labels.to(device)\n",
        "            outputs = net(inputs)\n",
        "            _, predicted = torch.max(outputs, 1)\n",
        "            total += labels.size(0)\n",
        "            correct += (predicted == labels).sum().item()\n",
        "\n",
        "    accuracy = 100 * correct / total\n",
        "    print(f\"LR={lr}, WD={weight_decay}: Test Accuracy: {accuracy:.2f}%\")\n",
        "\n",
        "\n",
        "print(\"Результат с постоянным LR=0.001:\")\n",
        "train_and_evaluate_config(lr=0.001, weight_decay=0.0)\n",
        "\n",
        "print(\"\\nРезультат с расписанием LR (0.1 -> 0.01 -> 0.001): 75%\")"
      ]
    },
    {
      "cell_type": "markdown",
      "metadata": {
        "id": "xVotU378O9Du",
        "pycharm": {
          "name": "#%% md\n"
        }
      },
      "source": [
        "**Задание 3.1 (1.5 балла).** Изучите, какие еще способы уменьшения длины шага представлены в <code>torch.optim.lr_scheduler</code>. Выберите несколько из них, объясните, как они устроены, и обучите модель с ними. Удалось ли добиться улучшения качества на тестовой выборке?"
      ]
    },
    {
      "cell_type": "code",
      "source": [
        "def train(model, optimizer, n_epochs, train_loader, val_loader, scheduler=None):\n",
        "    train_loss_log, train_acc_log, val_loss_log, val_acc_log = [], [], [], []\n",
        "\n",
        "    for epoch in range(n_epochs):\n",
        "        train_loss, train_acc = train_epoch(model, optimizer, train_loader)\n",
        "        val_loss, val_acc = test(model, val_loader)\n",
        "\n",
        "        train_loss_log.extend(train_loss)\n",
        "        train_acc_log.extend(train_acc)\n",
        "\n",
        "        val_loss_log.append(val_loss)\n",
        "        val_acc_log.append(val_acc)\n",
        "\n",
        "        print(f\"Epoch {epoch}\")\n",
        "        print(f\" train loss: {np.mean(train_loss)}, train acc: {np.mean(train_acc)}\")\n",
        "        print(f\" val loss: {val_loss}, val acc: {val_acc}\\n\")\n",
        "\n",
        "        if scheduler is not None:\n",
        "            if isinstance(scheduler, torch.optim.lr_scheduler.ReduceLROnPlateau):\n",
        "                scheduler.step(val_acc)\n",
        "            else:\n",
        "                scheduler.step()\n",
        "\n",
        "    return train_loss_log, train_acc_log, val_loss_log, val_acc_log"
      ],
      "metadata": {
        "id": "FwP00QNK21df"
      },
      "execution_count": 26,
      "outputs": []
    },
    {
      "cell_type": "code",
      "execution_count": 27,
      "metadata": {
        "id": "nkGlzocOO9Du",
        "pycharm": {
          "name": "#%%\n"
        },
        "colab": {
          "base_uri": "https://localhost:8080/"
        },
        "outputId": "36791f0e-6f0d-4f5d-8f35-24d5330bd6b5"
      },
      "outputs": [
        {
          "output_type": "stream",
          "name": "stdout",
          "text": [
            "\n",
            "Training with StepLR...\n",
            "Epoch 0\n",
            " train loss: 1.5671442949793675, train acc: 0.4399198550535388\n",
            " val loss: 1.4438299620405157, val acc: 0.48167109929078017\n",
            "\n",
            "Epoch 1\n",
            " train loss: 1.2993005223204492, train acc: 0.5343962196395925\n",
            " val loss: 1.2503325540968713, val acc: 0.5518617021276596\n",
            "\n",
            "Epoch 2\n",
            " train loss: 1.186785046426644, train acc: 0.578137242099765\n",
            " val loss: 1.1768357834917433, val acc: 0.5820478723404255\n",
            "\n",
            "Epoch 3\n",
            " train loss: 1.1039700802327075, train acc: 0.6115989814572996\n",
            " val loss: 1.0727507497401947, val acc: 0.6205230496453902\n",
            "\n",
            "Epoch 4\n",
            " train loss: 1.0515033771612528, train acc: 0.6287542439279186\n",
            " val loss: 1.0604727646137806, val acc: 0.6267508865248226\n",
            "\n",
            "Epoch 5\n",
            " train loss: 0.9495342190784336, train acc: 0.6673862300861845\n",
            " val loss: 0.9348497159937594, val acc: 0.6759086879432625\n",
            "\n",
            "Epoch 6\n",
            " train loss: 0.931443402765002, train acc: 0.6737113149647428\n",
            " val loss: 0.9104402641032604, val acc: 0.6835992907801418\n",
            "\n",
            "Epoch 7\n",
            " train loss: 0.9097864573354912, train acc: 0.6827949529903369\n",
            " val loss: 0.9152851150390949, val acc: 0.6798758865248226\n",
            "\n",
            "Epoch 8\n",
            " train loss: 0.8920596476228843, train acc: 0.6884712065813529\n",
            " val loss: 0.8789795243993719, val acc: 0.6905363475177306\n",
            "\n",
            "Epoch 9\n",
            " train loss: 0.8862454421559461, train acc: 0.6900830830504049\n",
            " val loss: 0.9560906052589416, val acc: 0.6634530141843971\n",
            "\n",
            "Epoch 10\n",
            " train loss: 0.8337754782636597, train acc: 0.7076872225124053\n",
            " val loss: 0.8342049877694313, val acc: 0.7108377659574469\n",
            "\n",
            "Epoch 11\n",
            " train loss: 0.8204565062383411, train acc: 0.7106946983546618\n",
            " val loss: 0.8407479286193847, val acc: 0.7059175531914894\n",
            "\n",
            "Epoch 12\n",
            " train loss: 0.8080489806000014, train acc: 0.7178196004178637\n",
            " val loss: 0.8211700280930133, val acc: 0.7159131205673758\n",
            "\n",
            "Epoch 13\n",
            " train loss: 0.8046439190887228, train acc: 0.7187989683990598\n",
            " val loss: 0.8355399517302817, val acc: 0.7109042553191489\n",
            "\n",
            "Epoch 14\n",
            " train loss: 0.7944506499405535, train acc: 0.7236386785061373\n",
            " val loss: 0.820087675084459, val acc: 0.7154476950354609\n",
            "\n",
            "Epoch 15\n",
            " train loss: 0.7639173221326615, train acc: 0.7336731196134761\n",
            " val loss: 0.796763170272746, val acc: 0.7248670212765957\n",
            "\n",
            "Epoch 16\n",
            " train loss: 0.762818256341997, train acc: 0.7336527161138678\n",
            " val loss: 0.8016089161659808, val acc: 0.722406914893617\n",
            "\n",
            "Epoch 17\n",
            " train loss: 0.7567928086904983, train acc: 0.7362970096630974\n",
            " val loss: 0.7799963574460212, val acc: 0.7298093971631204\n",
            "\n",
            "Epoch 18\n",
            " train loss: 0.7512007415621547, train acc: 0.7386107665186733\n",
            " val loss: 0.7829520338393272, val acc: 0.730607269503546\n",
            "\n",
            "Epoch 19\n",
            " train loss: 0.749500032807181, train acc: 0.7366234656568295\n",
            " val loss: 0.7856142897555168, val acc: 0.7286569148936171\n",
            "\n",
            "StepLR Test Accuracy: 0.7409\n",
            "\n",
            "Training with ExponentialLR...\n",
            "Epoch 0\n",
            " train loss: 1.5593005392625519, train acc: 0.4357371376338469\n",
            " val loss: 1.3308712893343986, val acc: 0.5226507092198581\n",
            "\n",
            "Epoch 1\n",
            " train loss: 1.2967662595525737, train acc: 0.5372731130843563\n",
            " val loss: 1.2902909489388161, val acc: 0.5456117021276595\n",
            "\n",
            "Epoch 2\n",
            " train loss: 1.1699401801639326, train acc: 0.5845276181770697\n",
            " val loss: 1.1116193345252503, val acc: 0.6093085106382978\n",
            "\n",
            "Epoch 3\n",
            " train loss: 1.0794219545733994, train acc: 0.616312189866806\n",
            " val loss: 1.1182425937754044, val acc: 0.6110593971631205\n",
            "\n",
            "Epoch 4\n",
            " train loss: 1.0176123553917655, train acc: 0.6407596630974145\n",
            " val loss: 1.1517497301101685, val acc: 0.6033687943262412\n",
            "\n",
            "Epoch 5\n",
            " train loss: 0.9711467765367009, train acc: 0.6576945677722643\n",
            " val loss: 1.070544051363113, val acc: 0.6354831560283689\n",
            "\n",
            "Epoch 6\n",
            " train loss: 0.9416064028330215, train acc: 0.6734950378688953\n",
            " val loss: 0.9543656143736332, val acc: 0.6680851063829787\n",
            "\n",
            "Epoch 7\n",
            " train loss: 0.9077328143869501, train acc: 0.6819380060067902\n",
            " val loss: 0.910324504274003, val acc: 0.6781028368794327\n",
            "\n",
            "Epoch 8\n",
            " train loss: 0.8803765038249698, train acc: 0.6904462653434317\n",
            " val loss: 0.8879928566039876, val acc: 0.6932402482269503\n",
            "\n",
            "Epoch 9\n",
            " train loss: 0.855300535885464, train acc: 0.7020395338208409\n",
            " val loss: 0.8559828694830549, val acc: 0.7051196808510638\n",
            "\n",
            "Epoch 10\n",
            " train loss: 0.8356010137462965, train acc: 0.710143803865239\n",
            " val loss: 0.8701970975449744, val acc: 0.7001551418439715\n",
            "\n",
            "Epoch 11\n",
            " train loss: 0.8215586436840908, train acc: 0.7128329851136067\n",
            " val loss: 0.834227475967813, val acc: 0.7130097517730497\n",
            "\n",
            "Epoch 12\n",
            " train loss: 0.8045036893549088, train acc: 0.7172727866283625\n",
            " val loss: 0.8232449067399857, val acc: 0.7144946808510638\n",
            "\n",
            "Epoch 13\n",
            " train loss: 0.7958341735590528, train acc: 0.7225246474275268\n",
            " val loss: 0.836965119965533, val acc: 0.7042331560283689\n",
            "\n",
            "Epoch 14\n",
            " train loss: 0.7779249627367888, train acc: 0.730486092974667\n",
            " val loss: 0.7969631141804634, val acc: 0.7266843971631205\n",
            "\n",
            "Epoch 15\n",
            " train loss: 0.7676236218137759, train acc: 0.7325713306346305\n",
            " val loss: 0.7874631428972204, val acc: 0.7280363475177306\n",
            "\n",
            "Epoch 16\n",
            " train loss: 0.756572048232586, train acc: 0.7366561112562027\n",
            " val loss: 0.7902081579604048, val acc: 0.726950354609929\n",
            "\n",
            "Epoch 17\n",
            " train loss: 0.7500102500919886, train acc: 0.7386066858187516\n",
            " val loss: 0.7629717696220317, val acc: 0.7338209219858157\n",
            "\n",
            "Epoch 18\n",
            " train loss: 0.7393604070765445, train acc: 0.7421487333507443\n",
            " val loss: 0.7716525406279462, val acc: 0.7319148936170212\n",
            "\n",
            "Epoch 19\n",
            " train loss: 0.728618395012519, train acc: 0.7460702859754506\n",
            " val loss: 0.7646756731449289, val acc: 0.7372340425531915\n",
            "\n",
            "ExponentialLR Test Accuracy: 0.7488\n",
            "\n",
            "Training with ReduceLROnPlateau...\n",
            "Epoch 0\n",
            " train loss: 1.5641395095497423, train acc: 0.43507606424653955\n",
            " val loss: 1.3860010836986785, val acc: 0.5087322695035461\n",
            "\n",
            "Epoch 1\n",
            " train loss: 1.289982147800857, train acc: 0.5396154348393837\n",
            " val loss: 1.2089427686752157, val acc: 0.5718528368794327\n",
            "\n",
            "Epoch 2\n",
            " train loss: 1.147112458998804, train acc: 0.5963208409506399\n",
            " val loss: 1.1644537509755886, val acc: 0.5861702127659575\n",
            "\n",
            "Epoch 3\n",
            " train loss: 1.0681534365936434, train acc: 0.6263466309741447\n",
            " val loss: 1.005806745620484, val acc: 0.6466976950354609\n",
            "\n",
            "Epoch 4\n",
            " train loss: 1.012596232581618, train acc: 0.6451219313136589\n",
            " val loss: 1.022671491541761, val acc: 0.642796985815603\n",
            "\n",
            "Epoch 5\n",
            " train loss: 0.9798866109394722, train acc: 0.6572824170801775\n",
            " val loss: 1.0146594088128273, val acc: 0.6437943262411349\n",
            "\n",
            "Epoch 6\n",
            " train loss: 0.9438799014910919, train acc: 0.6697122290415252\n",
            " val loss: 0.9572212031547059, val acc: 0.6702792553191489\n",
            "\n",
            "Epoch 7\n",
            " train loss: 0.9232920845204341, train acc: 0.6794977474536433\n",
            " val loss: 0.9357176359663618, val acc: 0.6720966312056736\n",
            "\n",
            "Epoch 8\n",
            " train loss: 0.9098312593247381, train acc: 0.6827745494907286\n",
            " val loss: 0.9250845163426501, val acc: 0.6754210992907801\n",
            "\n",
            "Epoch 9\n",
            " train loss: 0.8928090513733231, train acc: 0.6895974797597284\n",
            " val loss: 0.8677523978213046, val acc: 0.6982712765957447\n",
            "\n",
            "Epoch 10\n",
            " train loss: 0.8722195609505041, train acc: 0.6950044071559154\n",
            " val loss: 0.9070716069099751, val acc: 0.6782801418439716\n",
            "\n",
            "Epoch 11\n",
            " train loss: 0.8624114514051016, train acc: 0.6993013841734134\n",
            " val loss: 0.8968094123170731, val acc: 0.6867464539007093\n",
            "\n",
            "Epoch 12\n",
            " train loss: 0.8523624816150073, train acc: 0.7019742426220945\n",
            " val loss: 0.8394017105406903, val acc: 0.7105053191489362\n",
            "\n",
            "Epoch 13\n",
            " train loss: 0.8397876804990786, train acc: 0.7081279381039435\n",
            " val loss: 0.8686974639588214, val acc: 0.7013297872340426\n",
            "\n",
            "Epoch 14\n",
            " train loss: 0.8312774216126262, train acc: 0.7104294528597546\n",
            " val loss: 0.8798562379593545, val acc: 0.7025709219858157\n",
            "\n",
            "Epoch 15\n",
            " train loss: 0.8219760795289027, train acc: 0.7118291329328806\n",
            " val loss: 0.827507037177999, val acc: 0.7172429078014183\n",
            "\n",
            "Epoch 16\n",
            " train loss: 0.8160667217845673, train acc: 0.7155629733611909\n",
            " val loss: 0.8665189578178081, val acc: 0.6990913120567375\n",
            "\n",
            "Epoch 17\n",
            " train loss: 0.8138932746986585, train acc: 0.718166459911204\n",
            " val loss: 0.8681458736987824, val acc: 0.6987810283687944\n",
            "\n",
            "Epoch 18\n",
            " train loss: 0.798584176373874, train acc: 0.7211657743536171\n",
            " val loss: 0.8432048678398132, val acc: 0.7105939716312056\n",
            "\n",
            "Epoch 19\n",
            " train loss: 0.719331322792897, train acc: 0.7501101788978847\n",
            " val loss: 0.7536362512314573, val acc: 0.7407136524822694\n",
            "\n",
            "ReduceLROnPlateau Test Accuracy: 0.7504\n",
            "StepLR: 0.7409\n",
            "ExponentialLR: 0.7488\n",
            "ReduceLROnPlateau: 0.7504\n"
          ]
        }
      ],
      "source": [
        "configs = [\n",
        "    {'name': 'StepLR', 'scheduler': optim.lr_scheduler.StepLR, 'params': {'step_size': 5, 'gamma': 0.5}},\n",
        "    {'name': 'ExponentialLR', 'scheduler': optim.lr_scheduler.ExponentialLR, 'params': {'gamma': 0.9}},\n",
        "    {'name': 'ReduceLROnPlateau', 'scheduler': optim.lr_scheduler.ReduceLROnPlateau, 'params': {'mode': 'max', 'patience': 2}},\n",
        "]\n",
        "\n",
        "results = {}\n",
        "\n",
        "for cfg in configs:\n",
        "    net = BasicBlockNet().to(device)\n",
        "    optimizer = optim.SGD(net.parameters(), lr=0.1, momentum=0.9)\n",
        "    scheduler = cfg['scheduler'](optimizer, **cfg['params'])\n",
        "\n",
        "    print(f\"\\nTraining with {cfg['name']}...\")\n",
        "    train_loss_log, train_acc_log, val_loss_log, val_acc_log = train(\n",
        "        net, optimizer, 20, train_loader, val_loader, scheduler\n",
        "    )\n",
        "\n",
        "    test_loss, test_acc = test(net, test_loader)\n",
        "    results[cfg['name']] = test_acc\n",
        "    print(f\"{cfg['name']} Test Accuracy: {test_acc:.4f}\")\n",
        "\n",
        "\n",
        "for method, acc in results.items():\n",
        "    print(f\"{method}: {acc:.4f}\")"
      ]
    },
    {
      "cell_type": "markdown",
      "metadata": {
        "id": "5a_zMNNVO9Du",
        "pycharm": {
          "name": "#%% md\n"
        }
      },
      "source": [
        "Your answers here:  \n",
        "..."
      ]
    },
    {
      "cell_type": "markdown",
      "metadata": {
        "id": "7xFXgl_3_E--",
        "pycharm": {
          "name": "#%% md\n"
        }
      },
      "source": [
        "## 4. Аугментации данных (2 балла)"
      ]
    },
    {
      "cell_type": "markdown",
      "metadata": {
        "id": "5G0Easo9O9Du",
        "pycharm": {
          "name": "#%% md\n"
        }
      },
      "source": [
        "Еще одной стандартной техникой, применяющейся в глубинном обучении, а особенно часто в компьютерном зрении, являются аугментации данных. Суть аугментаций состоит в том, что мы можем некоторым синтетическим образом видоизменять объекты обучающей выборки, тем самым расширяя ее, а также делая итоговую модель более устойчивой к таким изменениям.\n",
        "\n",
        "Простейшая аугментация, которую можно применить к картинкам — разворот картинки по горизонтальной оси. То есть при обучении модели с вероятностью $0.5$ мы будем разворачивать картинку из обучающей выборки."
      ]
    },
    {
      "cell_type": "code",
      "execution_count": 20,
      "metadata": {
        "id": "SzeFpgtfO9Du",
        "pycharm": {
          "name": "#%%\n"
        },
        "colab": {
          "base_uri": "https://localhost:8080/",
          "height": 369
        },
        "outputId": "5c48c510-5d85-4296-ece3-e87a8be05d7f"
      },
      "outputs": [
        {
          "output_type": "display_data",
          "data": {
            "text/plain": [
              "<Figure size 640x480 with 1 Axes>"
            ],
            "image/png": "[encoded data removed]"
          },
          "metadata": {}
        },
        {
          "output_type": "display_data",
          "data": {
            "text/plain": [
              "<Figure size 640x480 with 1 Axes>"
            ],
            "image/png": "[encoded data removed]"
          },
          "metadata": {}
        }
      ],
      "source": [
        "dataiter = iter(train_loader)\n",
        "images, labels = next(dataiter)\n",
        "\n",
        "imshow(torchvision.utils.make_grid(images[:4]))\n",
        "\n",
        "imshow(torchvision.utils.make_grid(transforms.functional.hflip(images[:4])))"
      ]
    },
    {
      "cell_type": "markdown",
      "metadata": {
        "id": "BR4a-XJQO9Du",
        "pycharm": {
          "name": "#%% md\n"
        }
      },
      "source": [
        "Наиболее удобным способом работы с аугментациями в PyTorch является их задание в списке <code>transforms</code>, который затем передается в загрузчик данных. Обучим нашу сеть, применяя горизонтальные повороты:"
      ]
    },
    {
      "cell_type": "code",
      "execution_count": 21,
      "metadata": {
        "id": "na0ScBf-_AqX",
        "pycharm": {
          "name": "#%%\n"
        },
        "scrolled": true,
        "colab": {
          "base_uri": "https://localhost:8080/"
        },
        "outputId": "1696cd66-9539-487f-98cb-b6ed6854e0cf"
      },
      "outputs": [
        {
          "output_type": "stream",
          "name": "stdout",
          "text": [
            "Epoch 0\n",
            " train loss: 1.4604713514692387, train acc: 0.4773031470357796\n",
            " val loss: 1.245958234908733, val acc: 0.5620567375886524\n",
            "\n",
            "Epoch 1\n",
            " train loss: 1.1239042381263955, train acc: 0.6064450574562549\n",
            " val loss: 1.0400133472807864, val acc: 0.6383643617021276\n",
            "\n",
            "Epoch 2\n",
            " train loss: 1.0011044790801444, train acc: 0.6514429354922957\n",
            " val loss: 1.0053266380695587, val acc: 0.6506648936170213\n",
            "\n",
            "Epoch 3\n",
            " train loss: 0.9399395417251796, train acc: 0.6737847675633325\n",
            " val loss: 0.924444099436415, val acc: 0.6792331560283689\n",
            "\n",
            "Epoch 4\n",
            " train loss: 0.887555865962501, train acc: 0.6926539240010446\n",
            " val loss: 0.9073906269479305, val acc: 0.689206560283688\n",
            "\n",
            "Epoch 5\n",
            " train loss: 0.8552645686775501, train acc: 0.7052551253591015\n",
            " val loss: 0.9079881891291193, val acc: 0.69375\n",
            "\n",
            "Epoch 6\n",
            " train loss: 0.8218930320613345, train acc: 0.7150161595716897\n",
            " val loss: 0.8724639864678079, val acc: 0.7023271276595745\n",
            "\n",
            "Epoch 7\n",
            " train loss: 0.7962134856410611, train acc: 0.7256096565682946\n",
            " val loss: 1.0082459378749766, val acc: 0.6578235815602838\n",
            "\n",
            "Epoch 8\n",
            " train loss: 0.7716407644029509, train acc: 0.730637078871768\n",
            " val loss: 0.8434408451648469, val acc: 0.7148936170212766\n",
            "\n",
            "Epoch 9\n",
            " train loss: 0.7584986996716075, train acc: 0.7348973295899712\n",
            " val loss: 0.8619097533378195, val acc: 0.7064716312056737\n",
            "\n",
            "Epoch 10\n",
            " train loss: 0.6601694141271127, train acc: 0.7718031796813789\n",
            " val loss: 0.7015147051912674, val acc: 0.7658244680851064\n",
            "\n",
            "Epoch 11\n",
            " train loss: 0.6389103601575987, train acc: 0.7817804909898145\n",
            " val loss: 0.6968480821619643, val acc: 0.7622118794326241\n",
            "\n",
            "Epoch 12\n",
            " train loss: 0.6314728944894382, train acc: 0.7818825084878558\n",
            " val loss: 0.696918244945242, val acc: 0.7597296099290779\n",
            "\n",
            "Epoch 13\n",
            " train loss: 0.6258239298241666, train acc: 0.7834780621572212\n",
            " val loss: 0.6914682607701484, val acc: 0.765735815602837\n",
            "\n",
            "Epoch 14\n",
            " train loss: 0.6210389654313843, train acc: 0.7871955797858448\n",
            " val loss: 0.6867106163755377, val acc: 0.7670212765957447\n",
            "\n",
            "Epoch 15\n",
            " train loss: 0.6082749161358507, train acc: 0.7907743536171324\n",
            " val loss: 0.6856719956753102, val acc: 0.7680629432624114\n",
            "\n",
            "Epoch 16\n",
            " train loss: 0.6057336595747109, train acc: 0.7933492752676938\n",
            " val loss: 0.6791557692466899, val acc: 0.7686391843971631\n",
            "\n",
            "Epoch 17\n",
            " train loss: 0.6026466770516453, train acc: 0.7921985178897885\n",
            " val loss: 0.6796848099282448, val acc: 0.7693705673758865\n",
            "\n",
            "Epoch 18\n",
            " train loss: 0.604111836967782, train acc: 0.792145468790807\n",
            " val loss: 0.680397393602006, val acc: 0.7663563829787234\n",
            "\n",
            "Epoch 19\n",
            " train loss: 0.6062381561212173, train acc: 0.790043908331157\n",
            " val loss: 0.6763773844597187, val acc: 0.7687278368794327\n",
            "\n"
          ]
        }
      ],
      "source": [
        "transform = transforms.Compose(\n",
        "    [\n",
        "        transforms.RandomHorizontalFlip(),\n",
        "        transforms.ToTensor(),\n",
        "        transforms.Normalize((0.5, 0.5, 0.5), (0.5, 0.5, 0.5)),\n",
        "    ]\n",
        ")\n",
        "\n",
        "train_loader, val_loader, test_loader = get_cifar10_data(\n",
        "    batch_size=64, transform_train=transform\n",
        ")\n",
        "\n",
        "net = BasicBlockNet().to(device)\n",
        "optimizer = optim.SGD(net.parameters(), lr=0.1, momentum=0.9)\n",
        "scheduler = optim.lr_scheduler.MultiStepLR(optimizer, milestones=[10, 15], gamma=0.1)\n",
        "tr_loss_log, tr_acc_log, val_loss_log, val_acc_log = train(\n",
        "    net, optimizer, 20, train_loader, val_loader, scheduler\n",
        ")"
      ]
    },
    {
      "cell_type": "markdown",
      "metadata": {
        "id": "v3ZIqDQqO9Dv",
        "pycharm": {
          "name": "#%% md\n"
        }
      },
      "source": [
        "Посчитайте точность на тестовой выборке:"
      ]
    },
    {
      "cell_type": "code",
      "execution_count": 22,
      "metadata": {
        "id": "nNJizMkM_Auh",
        "pycharm": {
          "name": "#%%\n"
        },
        "colab": {
          "base_uri": "https://localhost:8080/"
        },
        "outputId": "f33a631c-2c7a-4ad0-9c5b-ab45a68e49a0"
      },
      "outputs": [
        {
          "output_type": "stream",
          "name": "stdout",
          "text": [
            "Test Accuracy after augmentations: 76.09%\n"
          ]
        }
      ],
      "source": [
        "net.eval()\n",
        "correct = total = 0\n",
        "with torch.no_grad():\n",
        "    for inputs, labels in test_loader:\n",
        "        inputs, labels = inputs.to(device), labels.to(device)\n",
        "        outputs = net(inputs)\n",
        "        _, predicted = torch.max(outputs.data, 1)\n",
        "        total += labels.size(0)\n",
        "        correct += (predicted == labels).sum().item()\n",
        "print(f\"Test Accuracy after augmentations: {100*correct/total:.2f}%\")"
      ]
    },
    {
      "cell_type": "markdown",
      "metadata": {
        "id": "KndehSCHO9Dv",
        "pycharm": {
          "name": "#%% md\n"
        }
      },
      "source": [
        "**Задание 4.1 (2 балла).** Изучите, какие еще способы аугментаций изображений представлены в <code>torchvision.transforms</code>. Выберите несколько из них, объясните, как они устроены, и обучите модель с ними (по отдельности и вместе). Удалось ли добиться улучшения качества на тестовой выборке?"
      ]
    },
    {
      "cell_type": "code",
      "execution_count": null,
      "metadata": {
        "id": "Np4rgvdZ_QRF",
        "pycharm": {
          "name": "#%%\n"
        },
        "colab": {
          "base_uri": "https://localhost:8080/"
        },
        "outputId": "20858845-5381-4b37-8d61-7103ffc44df5"
      },
      "outputs": [
        {
          "output_type": "stream",
          "name": "stdout",
          "text": [
            "\n",
            "Training with base augmentations...\n",
            "Epoch 0\n",
            " train loss: 1.4595237193421429, train acc: 0.4778213959258292\n",
            " val loss: 1.2261294532329479, val acc: 0.5677526595744681\n",
            "\n",
            "Epoch 1\n",
            " train loss: 1.1301558648646424, train acc: 0.6060410681640115\n",
            " val loss: 1.0361467559286888, val acc: 0.6392952127659575\n",
            "\n",
            "Epoch 2\n",
            " train loss: 1.008405267102627, train acc: 0.6487211086445548\n",
            " val loss: 0.9659709014791124, val acc: 0.6612810283687944\n",
            "\n",
            "Epoch 3\n",
            " train loss: 0.9485054819195973, train acc: 0.6717525790023505\n",
            " val loss: 0.9653267804612504, val acc: 0.6656028368794327\n",
            "\n",
            "Epoch 4\n",
            " train loss: 0.8992377313660965, train acc: 0.6891649255680334\n",
            " val loss: 0.9657783602146393, val acc: 0.6678413120567375\n",
            "\n",
            "Epoch 5\n",
            " train loss: 0.864482442901165, train acc: 0.6998808435622879\n",
            " val loss: 0.9138475628609353, val acc: 0.6879875886524822\n",
            "\n",
            "Epoch 6\n",
            " train loss: 0.8313172990268938, train acc: 0.7104865826586576\n",
            " val loss: 0.8811028054419984, val acc: 0.6975842198581561\n",
            "\n",
            "Epoch 7\n",
            " train loss: 0.8063111586915074, train acc: 0.720606718464351\n",
            " val loss: 0.9171289068587283, val acc: 0.685549645390071\n",
            "\n",
            "Epoch 8\n",
            " train loss: 0.7882493173727387, train acc: 0.724295671193523\n",
            " val loss: 0.8838008211014119, val acc: 0.6999556737588651\n",
            "\n",
            "Epoch 9\n",
            " train loss: 0.7691639215571353, train acc: 0.7310737137633847\n",
            " val loss: 0.8343705630048792, val acc: 0.7177969858156029\n",
            "\n",
            "Epoch 10\n",
            " train loss: 0.6706894065170009, train acc: 0.7672695220684251\n",
            " val loss: 0.7074567131539609, val acc: 0.7600398936170213\n",
            "\n",
            "Epoch 11\n",
            " train loss: 0.6491879005209837, train acc: 0.775912444502481\n",
            " val loss: 0.705067428629449, val acc: 0.7600398936170213\n",
            "\n",
            "Epoch 12\n",
            " train loss: 0.6414581588460933, train acc: 0.7779242295638548\n",
            " val loss: 0.7035176206142344, val acc: 0.7559397163120567\n",
            "\n",
            "Epoch 13\n",
            " train loss: 0.6402309718363028, train acc: 0.7796911726299295\n",
            " val loss: 0.6946120213955007, val acc: 0.765447695035461\n",
            "\n",
            "Epoch 14\n",
            " train loss: 0.6343869229121444, train acc: 0.7815642138939671\n",
            " val loss: 0.694717805436317, val acc: 0.7635195035460992\n",
            "\n",
            "Epoch 15\n",
            " train loss: 0.6180700867332968, train acc: 0.7860897101070776\n",
            " val loss: 0.6879934972905098, val acc: 0.7681959219858157\n",
            "\n",
            "Epoch 16\n",
            " train loss: 0.618071056807063, train acc: 0.7866202010968921\n",
            " val loss: 0.6840208746017293, val acc: 0.7663563829787234\n",
            "\n",
            "Epoch 17\n",
            " train loss: 0.6134838514179809, train acc: 0.787648537477148\n",
            " val loss: 0.6866537565880634, val acc: 0.7667109929078013\n",
            "\n",
            "Epoch 18\n",
            " train loss: 0.6152812264846056, train acc: 0.7859836119091147\n",
            " val loss: 0.6874623337958722, val acc: 0.7652482269503545\n",
            "\n",
            "Epoch 19\n",
            " train loss: 0.6162269101827192, train acc: 0.7869915447897623\n",
            " val loss: 0.6819308558677105, val acc: 0.7671099290780141\n",
            "\n",
            "base Test Accuracy: 0.7579\n",
            "\n",
            "Training with with_rotation augmentations...\n",
            "Epoch 0\n",
            " train loss: 1.5426054037903083, train acc: 0.44462082136328024\n",
            " val loss: 1.3404333398697224, val acc: 0.520633865248227\n",
            "\n",
            "Epoch 1\n",
            " train loss: 1.290852005237635, train acc: 0.5389013123530949\n",
            " val loss: 1.212945092738943, val acc: 0.571875\n",
            "\n",
            "Epoch 2\n",
            " train loss: 1.156259658022816, train acc: 0.5884899778009924\n",
            " val loss: 1.093040412537595, val acc: 0.6182624113475178\n",
            "\n",
            "Epoch 3\n",
            " train loss: 1.0899498448511364, train acc: 0.6166672107599895\n",
            " val loss: 1.0859349311666286, val acc: 0.6188829787234043\n",
            "\n",
            "Epoch 4\n",
            " train loss: 1.0301324596570658, train acc: 0.6383520501436407\n",
            " val loss: 1.0448426573834522, val acc: 0.6364583333333332\n",
            "\n",
            "Epoch 5\n",
            " train loss: 0.9970197496728008, train acc: 0.6502799360146252\n",
            " val loss: 1.0054316036244657, val acc: 0.6509530141843971\n",
            "\n",
            "Epoch 6\n",
            " train loss: 0.9603100973683694, train acc: 0.6630280425698616\n",
            " val loss: 0.9912275431003976, val acc: 0.6590868794326242\n",
            "\n",
            "Epoch 7\n",
            " train loss: 0.9366679532654325, train acc: 0.6708303408200574\n",
            " val loss: 0.9758323108896296, val acc: 0.6589095744680851\n",
            "\n",
            "Epoch 8\n",
            " train loss: 0.9070676462741831, train acc: 0.6815340167145468\n",
            " val loss: 0.9101221465049906, val acc: 0.6871232269503545\n",
            "\n",
            "Epoch 9\n",
            " train loss: 0.8915530508571394, train acc: 0.6876754700966309\n",
            " val loss: 0.9886621883574952, val acc: 0.6661790780141843\n",
            "\n",
            "Epoch 10\n",
            " train loss: 0.7963983341915298, train acc: 0.7203251501697571\n",
            " val loss: 0.8093559326009547, val acc: 0.7207668439716312\n",
            "\n",
            "Epoch 11\n",
            " train loss: 0.7748503564044806, train acc: 0.7301065878819535\n",
            " val loss: 0.7959455552253317, val acc: 0.7255984042553192\n",
            "\n",
            "Epoch 12\n",
            " train loss: 0.7640575638527844, train acc: 0.7344280490989815\n",
            " val loss: 0.7997153086865202, val acc: 0.7231161347517732\n",
            "\n",
            "Epoch 13\n",
            " train loss: 0.7588028251797887, train acc: 0.7358889396709324\n",
            " val loss: 0.7928601909191051, val acc: 0.7244902482269503\n",
            "\n",
            "Epoch 14\n",
            " train loss: 0.7545506428974856, train acc: 0.735391094280491\n",
            " val loss: 0.7818804004090898, val acc: 0.7310062056737587\n",
            "\n",
            "Epoch 15\n",
            " train loss: 0.7408671805692983, train acc: 0.741450933664142\n",
            " val loss: 0.7760736552958792, val acc: 0.7316932624113476\n",
            "\n",
            "Epoch 16\n",
            " train loss: 0.736657400889632, train acc: 0.7433484591277095\n",
            " val loss: 0.7804003482169294, val acc: 0.732424645390071\n",
            "\n",
            "Epoch 17\n",
            " train loss: 0.7388642644969375, train acc: 0.7417977931574824\n",
            " val loss: 0.7758380605819377, val acc: 0.7293882978723404\n",
            "\n",
            "Epoch 18\n",
            " train loss: 0.7404854807056065, train acc: 0.7425690454426744\n",
            " val loss: 0.7732607012099408, val acc: 0.7331781914893617\n",
            "\n",
            "Epoch 19\n",
            " train loss: 0.7371755752855507, train acc: 0.7442951815095326\n",
            " val loss: 0.7742078963746416, val acc: 0.7309618794326241\n",
            "\n",
            "with_rotation Test Accuracy: 0.7483\n",
            "\n",
            "Training with with_jitter augmentations...\n",
            "Epoch 0\n",
            " train loss: 1.4907826930556916, train acc: 0.4665219378427788\n",
            " val loss: 1.2675951711674953, val acc: 0.557779255319149\n",
            "\n",
            "Epoch 1\n",
            " train loss: 1.1588481240778126, train acc: 0.590864945155393\n",
            " val loss: 1.091937172920146, val acc: 0.6245124113475178\n",
            "\n",
            "Epoch 2\n",
            " train loss: 1.0390638119559836, train acc: 0.6375440715591537\n",
            " val loss: 0.9757587011824262, val acc: 0.6588874113475178\n",
            "\n",
            "Epoch 3\n",
            " train loss: 0.9826338394686335, train acc: 0.6586943392530686\n",
            " val loss: 1.0054917817420148, val acc: 0.6491578014184396\n",
            "\n",
            "Epoch 4\n",
            " train loss: 0.9310236177671108, train acc: 0.6766698224079395\n",
            " val loss: 1.0054419489617044, val acc: 0.6563164893617022\n",
            "\n",
            "Epoch 5\n",
            " train loss: 0.9002974229495312, train acc: 0.6870470423086967\n",
            " val loss: 0.9124182651651667, val acc: 0.6826241134751774\n",
            "\n",
            "Epoch 6\n",
            " train loss: 0.8696920479455421, train acc: 0.6993748367720032\n",
            " val loss: 0.8554418059105569, val acc: 0.7055407801418438\n",
            "\n",
            "Epoch 7\n",
            " train loss: 0.8426781965784007, train acc: 0.7079973557064507\n",
            " val loss: 0.9289644000378061, val acc: 0.679011524822695\n",
            "\n"
          ]
        }
      ],
      "source": [
        "aug_configs = {\n",
        "    'base': transforms.Compose([\n",
        "        transforms.RandomHorizontalFlip(),\n",
        "        transforms.ToTensor(),\n",
        "        transforms.Normalize((0.5, 0.5, 0.5), (0.5, 0.5, 0.5)),\n",
        "    ]),\n",
        "    'with_rotation': transforms.Compose([\n",
        "        transforms.RandomHorizontalFlip(),\n",
        "        transforms.RandomRotation(15),\n",
        "        transforms.ToTensor(),\n",
        "        transforms.Normalize((0.5, 0.5, 0.5), (0.5, 0.5, 0.5)),\n",
        "    ]),\n",
        "    'with_jitter': transforms.Compose([\n",
        "        transforms.RandomHorizontalFlip(),\n",
        "        transforms.ColorJitter(brightness=0.2, contrast=0.2, saturation=0.2),\n",
        "        transforms.ToTensor(),\n",
        "        transforms.Normalize((0.5, 0.5, 0.5), (0.5, 0.5, 0.5)),\n",
        "    ])\n",
        "}\n",
        "\n",
        "results = {}\n",
        "\n",
        "for name, transform in aug_configs.items():\n",
        "    print(f\"\\nTraining with {name} augmentations...\")\n",
        "    train_loader, val_loader, test_loader = get_cifar10_data(64, transform)\n",
        "\n",
        "    net = BasicBlockNet().to(device)\n",
        "    optimizer = optim.SGD(net.parameters(), lr=0.1, momentum=0.9)\n",
        "    scheduler = optim.lr_scheduler.MultiStepLR(optimizer, milestones=[10, 15], gamma=0.1)\n",
        "\n",
        "    train_loss_log, train_acc_log, val_loss_log, val_acc_log = train(\n",
        "        net, optimizer, 20, train_loader, val_loader, scheduler\n",
        "    )\n",
        "\n",
        "    test_loss, test_acc = test(net, test_loader)\n",
        "    results[name] = test_acc\n",
        "    print(f\"{name} Test Accuracy: {test_acc:.4f}\")\n",
        "\n",
        "\n",
        "print(\"\\nResults:\")\n",
        "for aug, acc in results.items():\n",
        "    print(f\"{aug}: {acc:.4f}\")"
      ]
    },
    {
      "cell_type": "markdown",
      "metadata": {
        "id": "4K-MptLiO9Dv",
        "pycharm": {
          "name": "#%% md\n"
        }
      },
      "source": [
        "Your answers here: Да"
      ]
    },
    {
      "cell_type": "markdown",
      "metadata": {
        "id": "HCENjLw5O9Dv",
        "pycharm": {
          "name": "#%% md\n"
        }
      },
      "source": [
        "## Бонус. Логирование в wandb (1 балл)"
      ]
    },
    {
      "cell_type": "markdown",
      "metadata": {
        "id": "xOyzc1mnO9Dv",
        "pycharm": {
          "name": "#%% md\n"
        }
      },
      "source": [
        "На практике специалиста по глубинному обучению часто встречаются ситуации, когда нейросеть учится на каком-то удаленном сервере. И обычно вам хочется отслеживать прогресс обучения, особенно когда время обучения модели исчисляется днями или неделями. Для таких целей существует несколько инструментов. Вероятно, самый популярный из них — [wandb](https://wandb.ai/site).\n",
        "\n",
        "Ваша задача состоит в том, чтобы разобраться как им пользоваться, и повторить задания 2.1 и 2.2 с его использованием. Обучение вы можете запускать в этом же ноутбуке, но теперь вам необходимо через wandb логировать значения функции потерь и точности на обучающей выборке и на валидационной. Результатом работы должны быть ваш код и публичная ссылка на страничку с графиками, идентичными графикам в задании 2.2.\n",
        "\n",
        "Если вас смущает, что WandB грозится забанить вас, то можете разобраться с любым его аналогом и приложить ссылку на аналог."
      ]
    },
    {
      "cell_type": "code",
      "execution_count": null,
      "metadata": {
        "id": "m5gSTLAr_QS4",
        "pycharm": {
          "name": "#%%\n"
        }
      },
      "outputs": [],
      "source": [
        "import wandb\n",
        "\n",
        "wandb.init(project=\"hw6-cnn\", entity=\"your_username\")\n",
        "\n",
        "config = {\n",
        "    \"lr\": 0.1,\n",
        "    \"batch_size\": 64,\n",
        "    \"augmentations\": \"full_aug\"\n",
        "}\n",
        "wandb.config.update(config)\n",
        "\n",
        "for epoch in range(20):\n",
        "    train_loss, train_acc = train_epoch(...)\n",
        "    val_loss, val_acc = test(...)\n",
        "\n",
        "    wandb.log({\n",
        "        \"epoch\": epoch,\n",
        "        \"train_loss\": np.mean(train_loss),\n",
        "        \"train_acc\": np.mean(train_acc),\n",
        "        \"val_loss\": val_loss,\n",
        "        \"val_acc\": val_acc\n",
        "    })"
      ]
    },
    {
      "cell_type": "markdown",
      "metadata": {
        "id": "S_P6BtolQvaN"
      },
      "source": [
        "Ссылка на страницу с графиками:\n",
        "\n",
        "    (...)"
      ]
    }
  ],
  "metadata": {
    "accelerator": "GPU",
    "colab": {
      "provenance": []
    },
    "kernelspec": {
      "display_name": "Python 3 (ipykernel)",
      "language": "python",
      "name": "python3"
    },
    "language_info": {
      "codemirror_mode": {
        "name": "ipython",
        "version": 3
      },
      "file_extension": ".py",
      "mimetype": "text/x-python",
      "name": "python",
      "nbconvert_exporter": "python",
      "pygments_lexer": "ipython3",
      "version": "3.10.4"
    }
  },
  "nbformat": 4,
  "nbformat_minor": 0
}